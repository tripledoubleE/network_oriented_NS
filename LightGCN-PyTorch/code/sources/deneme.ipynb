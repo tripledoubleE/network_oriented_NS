{
 "cells": [
  {
   "cell_type": "code",
   "execution_count": 40,
   "metadata": {},
   "outputs": [],
   "source": [
    "import pandas as pd\n",
    "from tqdm import tqdm"
   ]
  },
  {
   "cell_type": "code",
   "execution_count": 32,
   "metadata": {},
   "outputs": [],
   "source": [
    "commute_matrix_path = '/home/ece/Desktop/Negative_Sampling/LightGCN-PyTorch/data/lastfm/distance_tau1.csv'\n",
    "df = pd.read_csv(commute_matrix_path)"
   ]
  },
  {
   "cell_type": "code",
   "execution_count": 33,
   "metadata": {},
   "outputs": [
    {
     "data": {
      "text/html": [
       "<div>\n",
       "<style scoped>\n",
       "    .dataframe tbody tr th:only-of-type {\n",
       "        vertical-align: middle;\n",
       "    }\n",
       "\n",
       "    .dataframe tbody tr th {\n",
       "        vertical-align: top;\n",
       "    }\n",
       "\n",
       "    .dataframe thead th {\n",
       "        text-align: right;\n",
       "    }\n",
       "</style>\n",
       "<table border=\"1\" class=\"dataframe\">\n",
       "  <thead>\n",
       "    <tr style=\"text-align: right;\">\n",
       "      <th></th>\n",
       "      <th>Unnamed: 0</th>\n",
       "      <th>u_0</th>\n",
       "      <th>u_1</th>\n",
       "      <th>u_2</th>\n",
       "      <th>u_3</th>\n",
       "      <th>u_4</th>\n",
       "      <th>u_5</th>\n",
       "      <th>u_6</th>\n",
       "      <th>u_7</th>\n",
       "      <th>u_8</th>\n",
       "      <th>...</th>\n",
       "      <th>i_3436</th>\n",
       "      <th>i_3437</th>\n",
       "      <th>i_4414</th>\n",
       "      <th>i_4457</th>\n",
       "      <th>i_1958</th>\n",
       "      <th>i_4427</th>\n",
       "      <th>i_3812</th>\n",
       "      <th>i_4486</th>\n",
       "      <th>i_1555</th>\n",
       "      <th>i_4431</th>\n",
       "    </tr>\n",
       "  </thead>\n",
       "  <tbody>\n",
       "    <tr>\n",
       "      <th>0</th>\n",
       "      <td>u_0</td>\n",
       "      <td>0.000000</td>\n",
       "      <td>0.612187</td>\n",
       "      <td>0.544387</td>\n",
       "      <td>0.551686</td>\n",
       "      <td>0.555259</td>\n",
       "      <td>0.551497</td>\n",
       "      <td>0.551616</td>\n",
       "      <td>0.562788</td>\n",
       "      <td>0.553533</td>\n",
       "      <td>...</td>\n",
       "      <td>0.666066</td>\n",
       "      <td>0.666066</td>\n",
       "      <td>0.666066</td>\n",
       "      <td>0.666066</td>\n",
       "      <td>0.603632</td>\n",
       "      <td>0.657718</td>\n",
       "      <td>0.658274</td>\n",
       "      <td>0.602776</td>\n",
       "      <td>0.661253</td>\n",
       "      <td>0.661253</td>\n",
       "    </tr>\n",
       "    <tr>\n",
       "      <th>1</th>\n",
       "      <td>u_1</td>\n",
       "      <td>0.612187</td>\n",
       "      <td>0.000000</td>\n",
       "      <td>0.609245</td>\n",
       "      <td>0.614599</td>\n",
       "      <td>0.618708</td>\n",
       "      <td>0.614498</td>\n",
       "      <td>0.615956</td>\n",
       "      <td>0.624631</td>\n",
       "      <td>0.616298</td>\n",
       "      <td>...</td>\n",
       "      <td>0.719062</td>\n",
       "      <td>0.719062</td>\n",
       "      <td>0.719062</td>\n",
       "      <td>0.719062</td>\n",
       "      <td>0.661659</td>\n",
       "      <td>0.711664</td>\n",
       "      <td>0.711858</td>\n",
       "      <td>0.660880</td>\n",
       "      <td>0.714890</td>\n",
       "      <td>0.714890</td>\n",
       "    </tr>\n",
       "    <tr>\n",
       "      <th>2</th>\n",
       "      <td>u_2</td>\n",
       "      <td>0.544387</td>\n",
       "      <td>0.609245</td>\n",
       "      <td>0.000000</td>\n",
       "      <td>0.548361</td>\n",
       "      <td>0.552877</td>\n",
       "      <td>0.548173</td>\n",
       "      <td>0.549768</td>\n",
       "      <td>0.559524</td>\n",
       "      <td>0.550229</td>\n",
       "      <td>...</td>\n",
       "      <td>0.663331</td>\n",
       "      <td>0.663331</td>\n",
       "      <td>0.663331</td>\n",
       "      <td>0.663331</td>\n",
       "      <td>0.600621</td>\n",
       "      <td>0.655292</td>\n",
       "      <td>0.655487</td>\n",
       "      <td>0.599625</td>\n",
       "      <td>0.658796</td>\n",
       "      <td>0.658796</td>\n",
       "    </tr>\n",
       "    <tr>\n",
       "      <th>3</th>\n",
       "      <td>u_3</td>\n",
       "      <td>0.551686</td>\n",
       "      <td>0.614599</td>\n",
       "      <td>0.548361</td>\n",
       "      <td>0.000000</td>\n",
       "      <td>0.558833</td>\n",
       "      <td>0.554201</td>\n",
       "      <td>0.555796</td>\n",
       "      <td>0.565425</td>\n",
       "      <td>0.552069</td>\n",
       "      <td>...</td>\n",
       "      <td>0.667501</td>\n",
       "      <td>0.667501</td>\n",
       "      <td>0.667501</td>\n",
       "      <td>0.667501</td>\n",
       "      <td>0.605064</td>\n",
       "      <td>0.660286</td>\n",
       "      <td>0.660520</td>\n",
       "      <td>0.605236</td>\n",
       "      <td>0.663795</td>\n",
       "      <td>0.663795</td>\n",
       "    </tr>\n",
       "    <tr>\n",
       "      <th>4</th>\n",
       "      <td>u_4</td>\n",
       "      <td>0.555259</td>\n",
       "      <td>0.618708</td>\n",
       "      <td>0.552877</td>\n",
       "      <td>0.558833</td>\n",
       "      <td>0.000000</td>\n",
       "      <td>0.558505</td>\n",
       "      <td>0.560137</td>\n",
       "      <td>0.569765</td>\n",
       "      <td>0.560676</td>\n",
       "      <td>...</td>\n",
       "      <td>0.671995</td>\n",
       "      <td>0.671995</td>\n",
       "      <td>0.671995</td>\n",
       "      <td>0.671995</td>\n",
       "      <td>0.610177</td>\n",
       "      <td>0.664063</td>\n",
       "      <td>0.664275</td>\n",
       "      <td>0.609298</td>\n",
       "      <td>0.666758</td>\n",
       "      <td>0.666758</td>\n",
       "    </tr>\n",
       "  </tbody>\n",
       "</table>\n",
       "<p>5 rows × 6355 columns</p>\n",
       "</div>"
      ],
      "text/plain": [
       "  Unnamed: 0       u_0       u_1       u_2       u_3       u_4       u_5  \\\n",
       "0        u_0  0.000000  0.612187  0.544387  0.551686  0.555259  0.551497   \n",
       "1        u_1  0.612187  0.000000  0.609245  0.614599  0.618708  0.614498   \n",
       "2        u_2  0.544387  0.609245  0.000000  0.548361  0.552877  0.548173   \n",
       "3        u_3  0.551686  0.614599  0.548361  0.000000  0.558833  0.554201   \n",
       "4        u_4  0.555259  0.618708  0.552877  0.558833  0.000000  0.558505   \n",
       "\n",
       "        u_6       u_7       u_8  ...    i_3436    i_3437    i_4414    i_4457  \\\n",
       "0  0.551616  0.562788  0.553533  ...  0.666066  0.666066  0.666066  0.666066   \n",
       "1  0.615956  0.624631  0.616298  ...  0.719062  0.719062  0.719062  0.719062   \n",
       "2  0.549768  0.559524  0.550229  ...  0.663331  0.663331  0.663331  0.663331   \n",
       "3  0.555796  0.565425  0.552069  ...  0.667501  0.667501  0.667501  0.667501   \n",
       "4  0.560137  0.569765  0.560676  ...  0.671995  0.671995  0.671995  0.671995   \n",
       "\n",
       "     i_1958    i_4427    i_3812    i_4486    i_1555    i_4431  \n",
       "0  0.603632  0.657718  0.658274  0.602776  0.661253  0.661253  \n",
       "1  0.661659  0.711664  0.711858  0.660880  0.714890  0.714890  \n",
       "2  0.600621  0.655292  0.655487  0.599625  0.658796  0.658796  \n",
       "3  0.605064  0.660286  0.660520  0.605236  0.663795  0.663795  \n",
       "4  0.610177  0.664063  0.664275  0.609298  0.666758  0.666758  \n",
       "\n",
       "[5 rows x 6355 columns]"
      ]
     },
     "execution_count": 33,
     "metadata": {},
     "output_type": "execute_result"
    }
   ],
   "source": [
    "df.head(5)"
   ]
  },
  {
   "cell_type": "code",
   "execution_count": 44,
   "metadata": {},
   "outputs": [],
   "source": [
    "df = df.set_index('Unnamed: 0')"
   ]
  },
  {
   "cell_type": "code",
   "execution_count": 45,
   "metadata": {},
   "outputs": [
    {
     "name": "stderr",
     "output_type": "stream",
     "text": [
      "100%|██████████| 6354/6354 [00:16<00:00, 388.01it/s]\n"
     ]
    }
   ],
   "source": [
    "distance_dict = {}\n",
    "for row_index, row in tqdm(df.iterrows(), total=len(df)):\n",
    "    distance_dict[row_index] = {key: value for key, value in row.items() if not key.startswith('u_')}"
   ]
  },
  {
   "cell_type": "code",
   "execution_count": 69,
   "metadata": {},
   "outputs": [
    {
     "data": {
      "text/plain": [
       "0.552755998112238"
      ]
     },
     "execution_count": 69,
     "metadata": {},
     "output_type": "execute_result"
    }
   ],
   "source": [
    "distance_dict['u_15']['i_45']"
   ]
  },
  {
   "cell_type": "code",
   "execution_count": 51,
   "metadata": {},
   "outputs": [],
   "source": [
    "max_key = max(distance_dict['u_155'], key=distance_dict['u_155'].get)"
   ]
  },
  {
   "cell_type": "code",
   "execution_count": 52,
   "metadata": {},
   "outputs": [
    {
     "data": {
      "text/plain": [
       "'i_4353'"
      ]
     },
     "execution_count": 52,
     "metadata": {},
     "output_type": "execute_result"
    }
   ],
   "source": [
    "max_key"
   ]
  },
  {
   "cell_type": "code",
   "execution_count": 57,
   "metadata": {},
   "outputs": [
    {
     "data": {
      "text/plain": [
       "u_0       0.000000\n",
       "u_1       0.612187\n",
       "u_2       0.544387\n",
       "u_3       0.551686\n",
       "u_4       0.555259\n",
       "            ...   \n",
       "i_4427    0.657718\n",
       "i_3812    0.658274\n",
       "i_4486    0.602776\n",
       "i_1555    0.661253\n",
       "i_4431    0.661253\n",
       "Name: u_0, Length: 6354, dtype: float64"
      ]
     },
     "execution_count": 57,
     "metadata": {},
     "output_type": "execute_result"
    }
   ],
   "source": [
    "df.T['u_0']"
   ]
  },
  {
   "cell_type": "code",
   "execution_count": 26,
   "metadata": {},
   "outputs": [],
   "source": [
    "#df = df.set_index('Unnamed: 0')"
   ]
  },
  {
   "cell_type": "code",
   "execution_count": 36,
   "metadata": {},
   "outputs": [
    {
     "data": {
      "text/plain": [
       "0"
      ]
     },
     "execution_count": 36,
     "metadata": {},
     "output_type": "execute_result"
    }
   ],
   "source": [
    "row_index"
   ]
  },
  {
   "cell_type": "code",
   "execution_count": 39,
   "metadata": {},
   "outputs": [
    {
     "data": {
      "text/plain": [
       "Unnamed: 0         u_0\n",
       "u_0                0.0\n",
       "u_1           0.612187\n",
       "u_2           0.544387\n",
       "u_3           0.551686\n",
       "                ...   \n",
       "i_4427        0.657718\n",
       "i_3812        0.658274\n",
       "i_4486        0.602776\n",
       "i_1555        0.661253\n",
       "i_4431        0.661253\n",
       "Name: 0, Length: 6355, dtype: object"
      ]
     },
     "execution_count": 39,
     "metadata": {},
     "output_type": "execute_result"
    }
   ],
   "source": [
    "df.iloc[row_index]"
   ]
  },
  {
   "cell_type": "code",
   "execution_count": 28,
   "metadata": {},
   "outputs": [
    {
     "data": {
      "text/plain": [
       "u_0       0.696039\n",
       "u_1       0.746924\n",
       "u_2       0.693434\n",
       "u_3       0.698167\n",
       "u_4       0.701727\n",
       "            ...   \n",
       "i_4427    0.784916\n",
       "i_3812    0.785089\n",
       "i_4486    0.739183\n",
       "i_1555    0.787840\n",
       "i_4431    0.787840\n",
       "Name: i_4353, Length: 6354, dtype: float64"
      ]
     },
     "execution_count": 28,
     "metadata": {},
     "output_type": "execute_result"
    }
   ],
   "source": [
    "df.T['i_4353']"
   ]
  },
  {
   "cell_type": "code",
   "execution_count": 30,
   "metadata": {},
   "outputs": [
    {
     "data": {
      "text/plain": [
       "count    6354.000000\n",
       "mean        0.567173\n",
       "std         0.023516\n",
       "min         0.000000\n",
       "25%         0.551399\n",
       "50%         0.560801\n",
       "75%         0.581933\n",
       "max         0.705111\n",
       "Name: u_0, dtype: float64"
      ]
     },
     "execution_count": 30,
     "metadata": {},
     "output_type": "execute_result"
    }
   ],
   "source": [
    "df.T['u_0'].describe()"
   ]
  },
  {
   "cell_type": "code",
   "execution_count": null,
   "metadata": {},
   "outputs": [],
   "source": []
  }
 ],
 "metadata": {
  "kernelspec": {
   "display_name": "neg_samp",
   "language": "python",
   "name": "python3"
  },
  "language_info": {
   "codemirror_mode": {
    "name": "ipython",
    "version": 3
   },
   "file_extension": ".py",
   "mimetype": "text/x-python",
   "name": "python",
   "nbconvert_exporter": "python",
   "pygments_lexer": "ipython3",
   "version": "3.8.18"
  }
 },
 "nbformat": 4,
 "nbformat_minor": 2
}
